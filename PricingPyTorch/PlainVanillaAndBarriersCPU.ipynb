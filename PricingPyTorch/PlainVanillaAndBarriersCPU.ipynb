{
 "cells": [
  {
   "cell_type": "markdown",
   "metadata": {},
   "source": [
    "# Option Pricing with with PyTorch \n",
    "\n",
    "Copyright Matthias Groncki, 2018\n",
    "\n",
    "This is a port of one of my previous blog posts about using TensorFlow to price options.\n",
    "\n",
    "After using PyTorch for another project, i was impressed how straight forward it is, so I've decided to revisit my previous examples and use PyTorch this time"
   ]
  },
  {
   "cell_type": "code",
   "execution_count": 1,
   "metadata": {},
   "outputs": [
    {
     "name": "stderr",
     "output_type": "stream",
     "text": [
      "/anaconda/lib/python3.6/site-packages/h5py/__init__.py:34: FutureWarning: Conversion of the second argument of issubdtype from `float` to `np.floating` is deprecated. In future, it will be treated as `np.float64 == np.dtype(float).type`.\n",
      "  from ._conv import register_converters as _register_converters\n"
     ]
    }
   ],
   "source": [
    "import numpy as np\n",
    "import torch\n",
    "import tensorflow as tf\n",
    "import scipy.stats as stats"
   ]
  },
  {
   "cell_type": "markdown",
   "metadata": {},
   "source": [
    "## Plain Vanillas\n",
    "\n",
    "Lets start with plain vanillas in a Black Scholes World. \n",
    "\n",
    "### Numpy Implementation\n",
    "\n",
    "I am using the same implementation as in the TensorFlow notebook:"
   ]
  },
  {
   "cell_type": "code",
   "execution_count": 2,
   "metadata": {},
   "outputs": [],
   "source": [
    "## Plain Vanilla Call in TensorFlow\n",
    "\n",
    "def blackScholes_py(S_0, strike, time_to_expiry, implied_vol, riskfree_rate):\n",
    "    S = S_0\n",
    "    K = strike\n",
    "    dt = time_to_expiry\n",
    "    sigma = implied_vol\n",
    "    r = riskfree_rate\n",
    "    Phi = stats.norm.cdf\n",
    "    d_1 = (np.log(S_0 / K) + (r+sigma**2/2)*dt) / (sigma*np.sqrt(dt))\n",
    "    d_2 = d_1 - sigma*np.sqrt(dt)\n",
    "    return S*Phi(d_1) - K*np.exp(-r*dt)*Phi(d_2)"
   ]
  },
  {
   "cell_type": "code",
   "execution_count": 3,
   "metadata": {},
   "outputs": [
    {
     "name": "stdout",
     "output_type": "stream",
     "text": [
      "281 µs ± 25.4 µs per loop (mean ± std. dev. of 7 runs, 1000 loops each)\n"
     ]
    }
   ],
   "source": [
    "%%timeit\n",
    "S_0 = 100\n",
    "K = 101\n",
    "T = 1\n",
    "sigma = 0.3\n",
    "r = 0.01\n",
    "\n",
    "npv_numpy = blackScholes_py(S_0, K, T, sigma, r)"
   ]
  },
  {
   "cell_type": "markdown",
   "metadata": {},
   "source": [
    "And as expected its super fast. No suprises here"
   ]
  },
  {
   "cell_type": "markdown",
   "metadata": {},
   "source": [
    "### PyTorch Implementation\n",
    "\n",
    "There are only minimal code changes compared to the numpy version required. In the actual pricing function we just need to replace ```np``` with ```torch``` and exchange the cdf function to use the PyTorch one and we have to convert our input into ```torch.tensor```."
   ]
  },
  {
   "cell_type": "code",
   "execution_count": 4,
   "metadata": {},
   "outputs": [],
   "source": [
    "def blackScholes_pyTorch(S_0, strike, time_to_expiry, implied_vol, riskfree_rate):\n",
    "    S = S_0\n",
    "    K = strike\n",
    "    dt = time_to_expiry\n",
    "    sigma = implied_vol\n",
    "    r = riskfree_rate\n",
    "    Phi = torch.distributions.Normal(0,1).cdf\n",
    "    d_1 = (torch.log(S_0 / K) + (r+sigma**2/2)*dt) / (sigma*torch.sqrt(dt))\n",
    "    d_2 = d_1 - sigma*torch.sqrt(dt)\n",
    "    return S*Phi(d_1) - K*torch.exp(-r*dt)*Phi(d_2)"
   ]
  },
  {
   "cell_type": "code",
   "execution_count": 5,
   "metadata": {},
   "outputs": [
    {
     "name": "stdout",
     "output_type": "stream",
     "text": [
      "283 µs ± 23.7 µs per loop (mean ± std. dev. of 7 runs, 1000 loops each)\n"
     ]
    }
   ],
   "source": [
    "%%timeit\n",
    "S_0 = torch.tensor([100.],requires_grad=True)\n",
    "K = torch.tensor([101.],requires_grad=True)\n",
    "T = torch.tensor([1.],requires_grad=True)\n",
    "sigma = torch.tensor([0.3],requires_grad=True)\n",
    "r = torch.tensor([0.01],requires_grad=True)\n",
    "npv_pytorch = blackScholes_pyTorch(S_0, K, T, sigma, r)"
   ]
  },
  {
   "cell_type": "markdown",
   "metadata": {},
   "source": [
    "Seems the PyTorch version is even faster as the pure numpy version\n",
    "\n",
    "#### Greeks in PyTorch\n",
    "\n",
    "We just need to call the ```.backward()``` operator of the tensor which stores the prices and we can access the greeks with the ```.grad``` properity."
   ]
  },
  {
   "cell_type": "code",
   "execution_count": 6,
   "metadata": {},
   "outputs": [
    {
     "name": "stdout",
     "output_type": "stream",
     "text": [
      "639 µs ± 9.85 µs per loop (mean ± std. dev. of 7 runs, 1000 loops each)\n"
     ]
    }
   ],
   "source": [
    "%%timeit\n",
    "S_0 = torch.tensor([100.],requires_grad=True)\n",
    "K = torch.tensor([101.],requires_grad=True)\n",
    "T = torch.tensor([1.],requires_grad=True)\n",
    "sigma = torch.tensor([0.3],requires_grad=True)\n",
    "r = torch.tensor([0.01],requires_grad=True)\n",
    "npv_pytorch = blackScholes_pyTorch(S_0, K, T, sigma, r)\n",
    "npv_pytorch.backward()\n",
    "delta_pytorch = S_0.grad\n",
    "vega_pytorch = sigma.grad\n",
    "rho_pytorch = r.grad\n",
    "theta_pytorch = T.grad\n",
    "digital_pytoch = -K.grad"
   ]
  },
  {
   "cell_type": "markdown",
   "metadata": {},
   "source": [
    "Its almost 2.5 times slower but gives us five greeks. A naive finite-difference approximation would costs us at least 5 calculations and would be only an numerical approximation. Here we have 'exact' derivates."
   ]
  },
  {
   "cell_type": "markdown",
   "metadata": {},
   "source": [
    "### TensorFlow implementation\n",
    "\n",
    "Using the same code as in the original notebook (but I removed the calculation of the 2nd order greeks. There is a bit of overhead for constructing the computational graph."
   ]
  },
  {
   "cell_type": "code",
   "execution_count": 7,
   "metadata": {},
   "outputs": [],
   "source": [
    "def blackScholes_tf_pricer():\n",
    "    # Build the static computational graph\n",
    "    S = tf.placeholder(tf.float32)\n",
    "    K = tf.placeholder(tf.float32)\n",
    "    dt = tf.placeholder(tf.float32)\n",
    "    sigma = tf.placeholder(tf.float32)\n",
    "    r = tf.placeholder(tf.float32)\n",
    "    Phi = tf.distributions.Normal(0.,1.).cdf\n",
    "    d_1 = (tf.log(S / K) + (r+sigma**2/2)*dt) / (sigma*tf.sqrt(dt))\n",
    "    d_2 = d_1 - sigma*tf.sqrt(dt)\n",
    "    npv =  S*Phi(d_1) - K*tf.exp(-r*dt)*Phi(d_2)\n",
    "    greeks = tf.gradients(npv, [S, sigma, r, K, dt])\n",
    "    def execute_graph(S_0, strike, time_to_expiry, implied_vol, riskfree_rate):\n",
    "        with tf.Session() as sess:\n",
    "            res = sess.run([npv, greeks], \n",
    "                           {\n",
    "                               S: S_0,\n",
    "                               K : strike,\n",
    "                               r : riskfree_rate,\n",
    "                               sigma: implied_vol,\n",
    "                               dt: time_to_expiry})\n",
    "        return res\n",
    "    return execute_graph "
   ]
  },
  {
   "cell_type": "code",
   "execution_count": 8,
   "metadata": {},
   "outputs": [
    {
     "name": "stdout",
     "output_type": "stream",
     "text": [
      "820 ms ± 99.9 ms per loop (mean ± std. dev. of 7 runs, 1 loop each)\n"
     ]
    }
   ],
   "source": [
    "%%timeit\n",
    "S_0 = 100\n",
    "K = 101\n",
    "T = 1\n",
    "sigma = 0.3\n",
    "r = 0.01\n",
    "tf_pricer = blackScholes_tf_pricer()\n",
    "npv_numpy_tf = tf_pricer(S_0, K, T, sigma, r)"
   ]
  },
  {
   "cell_type": "markdown",
   "metadata": {},
   "source": [
    "Its much slower than the numpy and the PyTorch implementaion. Maybe my implementation is just bad."
   ]
  },
  {
   "cell_type": "markdown",
   "metadata": {},
   "source": [
    "#### Second order greeks in Pytorch\n",
    "\n",
    "We using the same example as before but now we want to calculate the 2nd order greeks. Thats need\n",
    "to create a computational graph of the gradient. We use the function ```.grad()``` from the autograd module."
   ]
  },
  {
   "cell_type": "code",
   "execution_count": 9,
   "metadata": {},
   "outputs": [],
   "source": [
    "S_0 = torch.tensor([100.],requires_grad=True)\n",
    "K = torch.tensor([101.],requires_grad=True)\n",
    "T = torch.tensor([1.],requires_grad=True)\n",
    "sigma = torch.tensor([0.3],requires_grad=True)\n",
    "r = torch.tensor([0.01],requires_grad=True)\n",
    "npv_pytorch = blackScholes_pyTorch(S_0, K, T, sigma, r)"
   ]
  },
  {
   "cell_type": "markdown",
   "metadata": {},
   "source": [
    "#### Gamma"
   ]
  },
  {
   "cell_type": "code",
   "execution_count": 10,
   "metadata": {},
   "outputs": [],
   "source": [
    "gradient = torch.autograd.grad(npv_pytorch, S_0, create_graph=True)"
   ]
  },
  {
   "cell_type": "code",
   "execution_count": 11,
   "metadata": {},
   "outputs": [
    {
     "data": {
      "text/plain": [
       "tensor([ 0.5597])"
      ]
     },
     "execution_count": 11,
     "metadata": {},
     "output_type": "execute_result"
    }
   ],
   "source": [
    "delta, =  gradient\n",
    "delta"
   ]
  },
  {
   "cell_type": "code",
   "execution_count": 18,
   "metadata": {},
   "outputs": [
    {
     "name": "stdout",
     "output_type": "stream",
     "text": [
      "Delta:  tensor([ 0.5597])\n",
      "Gamma tensor(1.00000e-02 *\n",
      "       [ 2.6298])\n"
     ]
    }
   ],
   "source": [
    "delta.backward(retain_graph=True)\n",
    "print('Delta: ', delta)\n",
    "print('Gamma', S_0.grad)"
   ]
  },
  {
   "cell_type": "markdown",
   "metadata": {},
   "source": [
    "## Monte Carlo Pricing for Single Barrier Option\n",
    "\n",
    "### Numpy Implementation"
   ]
  },
  {
   "cell_type": "code",
   "execution_count": 13,
   "metadata": {},
   "outputs": [],
   "source": [
    "def monte_carlo_down_out_py(S_0, strike, time_to_expiry, implied_vol, riskfree_rate, barrier, steps, samples):\n",
    "    stdnorm_random_variates = np.random.randn(samples, steps)\n",
    "    S = S_0\n",
    "    K = strike\n",
    "    dt = time_to_expiry / stdnorm_random_variates.shape[1]\n",
    "    sigma = implied_vol\n",
    "    r = riskfree_rate\n",
    "    B = barrier\n",
    "    # See Advanced Monte Carlo methods for barrier and related exotic options by Emmanuel Gobet\n",
    "    B_shift = B*np.exp(0.5826*sigma*np.sqrt(dt))\n",
    "    S_T = S * np.cumprod(np.exp((r-sigma**2/2)*dt+sigma*np.sqrt(dt)*stdnorm_random_variates), axis=1)\n",
    "    non_touch = (np.min(S_T, axis=1) > B_shift)*1\n",
    "    call_payout = np.maximum(S_T[:,-1] - K, 0)\n",
    "    npv = np.mean(non_touch * call_payout)\n",
    "    return np.exp(-time_to_expiry*r)*npv"
   ]
  },
  {
   "cell_type": "code",
   "execution_count": 21,
   "metadata": {},
   "outputs": [
    {
     "name": "stdout",
     "output_type": "stream",
     "text": [
      "4.78 s ± 104 ms per loop (mean ± std. dev. of 7 runs, 1 loop each)\n"
     ]
    }
   ],
   "source": [
    "%%timeit\n",
    "monte_carlo_down_out_py(100., 110., 2., 0.2, 0.03, 90., 1000, 100000)"
   ]
  },
  {
   "cell_type": "markdown",
   "metadata": {},
   "source": [
    "### PyTorch Implementation"
   ]
  },
  {
   "cell_type": "code",
   "execution_count": 15,
   "metadata": {},
   "outputs": [],
   "source": [
    "def monte_carlo_down_out_torch(S_0, strike, time_to_expiry, implied_vol, riskfree_rate, barrier, steps, samples):\n",
    "    stdnorm_random_variates = torch.distributions.Normal(0,1).sample((samples, steps))\n",
    "    S = S_0\n",
    "    K = strike\n",
    "    dt = time_to_expiry / stdnorm_random_variates.shape[1]\n",
    "    sigma = implied_vol\n",
    "    r = riskfree_rate\n",
    "    B = barrier\n",
    "    # See Advanced Monte Carlo methods for barrier and related exotic options by Emmanuel Gobet\n",
    "    B_shift = B*torch.exp(0.5826*sigma*torch.sqrt(dt))\n",
    "    S_T = S * torch.cumprod(torch.exp((r-sigma**2/2)*dt+sigma*torch.sqrt(dt)*stdnorm_random_variates), dim=1)\n",
    "    non_touch = torch.min(S_T, dim=1)[0] > B_shift\n",
    "    call_payout = S_T[:,-1] - K\n",
    "    call_payout[call_payout<0]=0\n",
    "    npv = torch.mean(non_touch.type(torch.FloatTensor) * call_payout)\n",
    "    return torch.exp(-time_to_expiry*r)*npv"
   ]
  },
  {
   "cell_type": "code",
   "execution_count": 20,
   "metadata": {},
   "outputs": [
    {
     "name": "stdout",
     "output_type": "stream",
     "text": [
      "3.09 s ± 106 ms per loop (mean ± std. dev. of 7 runs, 1 loop each)\n"
     ]
    }
   ],
   "source": [
    "%%timeit\n",
    "S = torch.tensor([100.],requires_grad=True)\n",
    "K = torch.tensor([110.],requires_grad=True)\n",
    "T = torch.tensor([2.],requires_grad=True)\n",
    "sigma = torch.tensor([0.2],requires_grad=True)\n",
    "r = torch.tensor([0.03],requires_grad=True)\n",
    "B = torch.tensor([90.],requires_grad=True)\n",
    "monte_carlo_down_out_torch(S, K, T, sigma, r, B, 1000, 100000)"
   ]
  },
  {
   "cell_type": "code",
   "execution_count": 17,
   "metadata": {},
   "outputs": [
    {
     "name": "stdout",
     "output_type": "stream",
     "text": [
      "7.34 s ± 229 ms per loop (mean ± std. dev. of 7 runs, 1 loop each)\n"
     ]
    }
   ],
   "source": [
    "%%timeit\n",
    "S = torch.tensor([100.],requires_grad=True)\n",
    "K = torch.tensor([110.],requires_grad=True)\n",
    "T = torch.tensor([2.],requires_grad=True)\n",
    "sigma = torch.tensor([0.2],requires_grad=True)\n",
    "r = torch.tensor([0.03],requires_grad=True)\n",
    "B = torch.tensor([90.],requires_grad=True)\n",
    "npv_torch_mc = monte_carlo_down_out_torch(S, K, T, sigma, r, B, 1000, 100000)\n",
    "npv_torch_mc.backward()"
   ]
  },
  {
   "cell_type": "code",
   "execution_count": null,
   "metadata": {},
   "outputs": [],
   "source": []
  }
 ],
 "metadata": {
  "kernelspec": {
   "display_name": "Python [default]",
   "language": "python",
   "name": "python3"
  },
  "language_info": {
   "codemirror_mode": {
    "name": "ipython",
    "version": 3
   },
   "file_extension": ".py",
   "mimetype": "text/x-python",
   "name": "python",
   "nbconvert_exporter": "python",
   "pygments_lexer": "ipython3",
   "version": "3.6.4"
  }
 },
 "nbformat": 4,
 "nbformat_minor": 2
}
