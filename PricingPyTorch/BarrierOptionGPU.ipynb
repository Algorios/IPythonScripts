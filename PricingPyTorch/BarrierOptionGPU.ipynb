{
 "cells": [
  {
   "cell_type": "markdown",
   "metadata": {},
   "source": [
    "# Option Pricing with with PyTorch on GPU\n",
    "\n",
    "Copyright Matthias Groncki, 2018\n",
    "\n",
    "This is a port of one of my previous blog posts about using TensorFlow to price options.\n",
    "\n",
    "After using PyTorch for another project, i was impressed how straight forward it is, so I've decided to revisit my previous examples and use PyTorch this time"
   ]
  },
  {
   "cell_type": "code",
   "execution_count": 78,
   "metadata": {},
   "outputs": [],
   "source": [
    "import numpy as np\n",
    "import torch\n",
    "import datetime as dt"
   ]
  },
  {
   "cell_type": "markdown",
   "metadata": {},
   "source": [
    "## Monte Carlo Pricing for Single Barrier Option on a GPU vs CPU"
   ]
  },
  {
   "cell_type": "code",
   "execution_count": 12,
   "metadata": {},
   "outputs": [],
   "source": [
    "def monte_carlo_down_out_py(S_0, strike, time_to_expiry, implied_vol, riskfree_rate, barrier, steps, samples):\n",
    "    stdnorm_random_variates = np.random.randn(samples, steps)\n",
    "    S = S_0\n",
    "    K = strike\n",
    "    dt = time_to_expiry / stdnorm_random_variates.shape[1]\n",
    "    sigma = implied_vol\n",
    "    r = riskfree_rate\n",
    "    B = barrier\n",
    "    # See Advanced Monte Carlo methods for barrier and related exotic options by Emmanuel Gobet\n",
    "    B_shift = B*np.exp(0.5826*sigma*np.sqrt(dt))\n",
    "    S_T = S * np.cumprod(np.exp((r-sigma**2/2)*dt+sigma*np.sqrt(dt)*stdnorm_random_variates), axis=1)\n",
    "    non_touch = (np.min(S_T, axis=1) > B_shift)*1\n",
    "    call_payout = np.maximum(S_T[:,-1] - K, 0)\n",
    "    npv = np.mean(non_touch * call_payout)\n",
    "    return np.exp(-time_to_expiry*r)*npv"
   ]
  },
  {
   "cell_type": "code",
   "execution_count": 13,
   "metadata": {},
   "outputs": [
    {
     "name": "stdout",
     "output_type": "stream",
     "text": [
      "8.24 s ± 22.5 ms per loop (mean ± std. dev. of 7 runs, 1 loop each)\n"
     ]
    }
   ],
   "source": [
    "%%timeit\n",
    "monte_carlo_down_out_py(100., 110., 2., 0.2, 0.03, 90., 1000, 100000)"
   ]
  },
  {
   "cell_type": "code",
   "execution_count": 83,
   "metadata": {},
   "outputs": [],
   "source": [
    "def monte_carlo_down_out_torch_cuda(S_0, strike, time_to_expiry, implied_vol, riskfree_rate, barrier, steps, samples):\n",
    "    stdnorm_random_variates = torch.cuda.FloatTensor(steps, samples).normal_()\n",
    "    S = S_0\n",
    "    K = strike\n",
    "    dt = time_to_expiry / stdnorm_random_variates.shape[1]\n",
    "    sigma = implied_vol\n",
    "    r = riskfree_rate\n",
    "    B = barrier\n",
    "    # See Advanced Monte Carlo methods for barrier and related exotic options by Emmanuel Gobet\n",
    "    B_shift = B*torch.exp(0.5826*sigma*torch.sqrt(dt))\n",
    "    S_T = S * torch.cumprod(torch.exp((r-sigma**2/2)*dt+sigma*torch.sqrt(dt)*stdnorm_random_variates), dim=1)\n",
    "    non_touch = torch.min(S_T, dim=1)[0] > B_shift\n",
    "    non_touch = non_touch.type(torch.cuda.FloatTensor)\n",
    "    call_payout = S_T[:,-1] - K\n",
    "    call_payout[call_payout<0]=0\n",
    "    npv = torch.mean(non_touch * call_payout)\n",
    "    return torch.exp(-time_to_expiry*r)*npv"
   ]
  },
  {
   "cell_type": "code",
   "execution_count": 84,
   "metadata": {},
   "outputs": [
    {
     "name": "stdout",
     "output_type": "stream",
     "text": [
      "56.3 ms ± 89.1 µs per loop (mean ± std. dev. of 7 runs, 10 loops each)\n"
     ]
    }
   ],
   "source": [
    "%%timeit\n",
    "S = torch.tensor([100.],requires_grad=True, device='cuda')\n",
    "K = torch.tensor([110.],requires_grad=True, device='cuda')\n",
    "T = torch.tensor([2.],requires_grad=True, device='cuda')\n",
    "sigma = torch.tensor([0.2],requires_grad=True, device='cuda')\n",
    "r = torch.tensor([0.03],requires_grad=True, device='cuda')\n",
    "B = torch.tensor([90.],requires_grad=True, device='cuda')\n",
    "monte_carlo_down_out_torch_cuda(S, K, T, sigma, r, B, 1000, 100000)"
   ]
  },
  {
   "cell_type": "code",
   "execution_count": 115,
   "metadata": {},
   "outputs": [
    {
     "name": "stdout",
     "output_type": "stream",
     "text": [
      "160 ms ± 94 µs per loop (mean ± std. dev. of 7 runs, 10 loops each)\n"
     ]
    }
   ],
   "source": [
    "%%timeit\n",
    "S = torch.tensor([100.],requires_grad=True, device='cuda')\n",
    "K = torch.tensor([110.],requires_grad=True, device='cuda')\n",
    "T = torch.tensor([2.],requires_grad=True, device='cuda')\n",
    "sigma = torch.tensor([0.2],requires_grad=True, device='cuda')\n",
    "r = torch.tensor([0.03],requires_grad=True, device='cuda')\n",
    "B = torch.tensor([90.],requires_grad=True, device='cuda')\n",
    "npv_torch_mc = monte_carlo_down_out_torch_cuda(S, K, T, sigma, r, B, 1000, 100000)\n",
    "npv_torch_mc.backward()"
   ]
  },
  {
   "cell_type": "code",
   "execution_count": 113,
   "metadata": {},
   "outputs": [],
   "source": []
  },
  {
   "cell_type": "code",
   "execution_count": null,
   "metadata": {},
   "outputs": [],
   "source": []
  }
 ],
 "metadata": {
  "kernelspec": {
   "display_name": "Python [default]",
   "language": "python",
   "name": "python3"
  },
  "language_info": {
   "codemirror_mode": {
    "name": "ipython",
    "version": 3
   },
   "file_extension": ".py",
   "mimetype": "text/x-python",
   "name": "python",
   "nbconvert_exporter": "python",
   "pygments_lexer": "ipython3",
   "version": "3.6.4"
  }
 },
 "nbformat": 4,
 "nbformat_minor": 2
}
