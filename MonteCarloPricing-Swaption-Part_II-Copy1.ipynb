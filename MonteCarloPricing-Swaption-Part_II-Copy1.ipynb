{
 "cells": [
  {
   "cell_type": "markdown",
   "metadata": {
    "collapsed": false
   },
   "source": [
    "# Swaption Pricing Part 2: American Monte Carlo for Bermudas"
   ]
  },
  {
   "cell_type": "markdown",
   "metadata": {},
   "source": [
    "*Copyright (c) 2015 Matthias Groncki*\n",
    "\n",
    "\n",
    "Redistribution and use in source and binary forms, with or without\n",
    "modification, are permitted provided that the following conditions are met:\n",
    "\n",
    "    - Redistributions of source code must retain the above copyright notice,\n",
    "    this list of conditions and the following disclaimer.\n",
    "\n",
    "THIS SOFTWARE IS PROVIDED BY THE COPYRIGHT HOLDERS AND CONTRIBUTORS \"AS IS\"\n",
    "AND ANY EXPRESS OR IMPLIED WARRANTIES, INCLUDING, BUT NOT LIMITED TO, THE\n",
    "IMPLIED WARRANTIES OF MERCHANTABILITY AND FITNESS FOR A PARTICULAR PURPOSE ARE\n",
    "DISCLAIMED. IN NO EVENT SHALL THE COPYRIGHT HOLDERS OR CONTRIBUTORS BE LIABLE\n",
    "FOR ANY DIRECT, INDIRECT, INCIDENTAL, SPECIAL, EXEMPLARY, OR CONSEQUENTIAL\n",
    "DAMAGES (INCLUDING, BUT NOT LIMITED TO, PROCUREMENT OF SUBSTITUTE GOODS OR\n",
    "SERVICES; LOSS OF USE, DATA, OR PROFITS; OR BUSINESS INTERRUPTION) HOWEVER\n",
    "CAUSED AND ON ANY THEORY OF LIABILITY, WHETHER IN CONTRACT, STRICT LIABILITY,\n",
    "OR TORT (INCLUDING NEGLIGENCE OR OTHERWISE) ARISING IN ANY WAY OUT OF THE USE\n",
    "OF THIS SOFTWARE, EVEN IF ADVISED OF THE POSSIBILITY OF SUCH DAMAGE.\n",
    "\n",
    "This disclaimer is taken from the QuantLib license"
   ]
  },
  {
   "cell_type": "code",
   "execution_count": 1,
   "metadata": {
    "collapsed": false
   },
   "outputs": [],
   "source": [
    "# import the used libraries\n",
    "import numpy as np\n",
    "import matplotlib.pyplot as plt\n",
    "import statsmodels.api as sm\n",
    "import QuantLib as ql\n",
    "%matplotlib inline"
   ]
  },
  {
   "cell_type": "code",
   "execution_count": 2,
   "metadata": {
    "collapsed": false
   },
   "outputs": [],
   "source": [
    "# Setting evaluation date\n",
    "today = ql.Date(7,4,2015)\n",
    "ql.Settings.instance().setEvaluationDate(today)"
   ]
  },
  {
   "cell_type": "code",
   "execution_count": 3,
   "metadata": {
    "collapsed": false
   },
   "outputs": [],
   "source": [
    "# Setup Marketdata\n",
    "rate = ql.SimpleQuote(0.03)\n",
    "rate_handle = ql.QuoteHandle(rate)\n",
    "dc = ql.Actual365Fixed()\n",
    "yts = ql.FlatForward(today, rate_handle, dc)\n",
    "yts.enableExtrapolation()\n",
    "hyts = ql.RelinkableYieldTermStructureHandle(yts)\n",
    "t0_curve = ql.YieldTermStructureHandle(yts)\n",
    "euribor6m = ql.Euribor6M(hyts)\n",
    "cal = ql.TARGET()"
   ]
  },
  {
   "cell_type": "code",
   "execution_count": 4,
   "metadata": {
    "collapsed": false
   },
   "outputs": [],
   "source": [
    "# Setup a dummy portfolio with two Swaps\n",
    "def makeSwap(start, maturity, nominal, fixedRate, index, typ=ql.VanillaSwap.Payer):\n",
    "    \"\"\"\n",
    "    creates a plain vanilla swap with fixedLegTenor 1Y\n",
    "    \n",
    "    parameter:\n",
    "        \n",
    "        start (ql.Date) : Start Date\n",
    "        \n",
    "        maturity (ql.Period) : SwapTenor\n",
    "        \n",
    "        nominal (float) : Nominal\n",
    "        \n",
    "        fixedRate (float) : rate paid on fixed leg\n",
    "        \n",
    "        index (ql.IborIndex) : Index\n",
    "        \n",
    "    return: tuple(ql.Swap, list<Dates>) Swap and all fixing dates\n",
    "    \n",
    "        \n",
    "    \"\"\"\n",
    "    end = ql.TARGET().advance(start, maturity)\n",
    "    fixedLegTenor = ql.Period(\"1y\")\n",
    "    fixedLegBDC = ql.ModifiedFollowing\n",
    "    fixedLegDC = ql.Thirty360(ql.Thirty360.BondBasis)\n",
    "    spread = 0.0\n",
    "    fixedSchedule = ql.Schedule(start,\n",
    "                                end, \n",
    "                                fixedLegTenor, \n",
    "                                index.fixingCalendar(), \n",
    "                                fixedLegBDC,\n",
    "                                fixedLegBDC, \n",
    "                                ql.DateGeneration.Backward,\n",
    "                                False)\n",
    "    floatSchedule = ql.Schedule(start,\n",
    "                                end,\n",
    "                                index.tenor(),\n",
    "                                index.fixingCalendar(),\n",
    "                                index.businessDayConvention(),\n",
    "                                index.businessDayConvention(),\n",
    "                                ql.DateGeneration.Backward,\n",
    "                                False)\n",
    "    swap = ql.VanillaSwap(typ, \n",
    "                          nominal,\n",
    "                          fixedSchedule,\n",
    "                          fixedRate,\n",
    "                          fixedLegDC,\n",
    "                          floatSchedule,\n",
    "                          index,\n",
    "                          spread,\n",
    "                          index.dayCounter())\n",
    "    return swap, [index.fixingDate(x) for x in floatSchedule][:-1]\n",
    "\n",
    "\n",
    "def makeSwaption(swap, callDates, settlement):\n",
    "    if len(callDates) == 1:\n",
    "        exercise = ql.EuropeanExercise(callDates[0])\n",
    "    else:\n",
    "        exercise = ql.BermudanExercise(callDates)\n",
    "    return ql.Swaption(swap, exercise, settlement)\n",
    "\n",
    "\n"
   ]
  },
  {
   "cell_type": "markdown",
   "metadata": {},
   "source": [
    "## Lets start with an european swaption"
   ]
  },
  {
   "cell_type": "markdown",
   "metadata": {},
   "source": [
    "Create a forward starting plain vanilla swap using the helper function above and create a european swaption which allows us to to enter the swap in one year from today."
   ]
  },
  {
   "cell_type": "code",
   "execution_count": 109,
   "metadata": {
    "collapsed": false
   },
   "outputs": [],
   "source": [
    "settlementDate = today + ql.Period(\"1Y\")\n",
    "\n",
    "swaps = [makeSwap(settlementDate,\n",
    "                  ql.Period(\"5Y\"),\n",
    "                  1e6,\n",
    "                  0.03047096,\n",
    "                  euribor6m)\n",
    "        ]\n",
    "\n",
    "calldates = [euribor6m.fixingDate(settlementDate), ql.Date(5,4,2017), ql.Date(5,4, 2018)]\n",
    " \n",
    "swaptions = [makeSwaption(swap, \n",
    "                          calldates, \n",
    "                          ql.Settlement.Physical) \n",
    "             for swap, fd in swaps]\n",
    "\n",
    "calldates = [euribor6m.valueDate(d) for d in calldates]"
   ]
  },
  {
   "cell_type": "markdown",
   "metadata": {},
   "source": [
    "Pricing of the underlying at time 0 using the QuantLib pricing engine"
   ]
  },
  {
   "cell_type": "code",
   "execution_count": 110,
   "metadata": {
    "collapsed": false
   },
   "outputs": [
    {
     "name": "stdout",
     "output_type": "stream",
     "text": [
      "Swap NPV at time 0: 0.0091\n"
     ]
    }
   ],
   "source": [
    "#%%timeit\n",
    "# Setup pricing engine and calculate the npv of the underlying swap\n",
    "engine = ql.DiscountingSwapEngine(hyts)\n",
    "for swap, fixingDates in swaps:\n",
    "    swap.setPricingEngine(engine)\n",
    "    print(\"Swap NPV at time 0: %.4f\" % swap.NPV())\n"
   ]
  },
  {
   "cell_type": "markdown",
   "metadata": {},
   "source": [
    "###Setup the Gaussian Shortrate model (a.k.a Hull White model)\n",
    "\n",
    "Don't worry about calibration, assume we know the calbriated model parameter"
   ]
  },
  {
   "cell_type": "code",
   "execution_count": 111,
   "metadata": {
    "collapsed": true
   },
   "outputs": [],
   "source": [
    "# Stochastic Process "
   ]
  },
  {
   "cell_type": "code",
   "execution_count": 112,
   "metadata": {
    "collapsed": false
   },
   "outputs": [],
   "source": [
    "# Assume the model is already calibrated either historical or market implied\n",
    "volas = [ql.QuoteHandle(ql.SimpleQuote(0.0075)),\n",
    "         ql.QuoteHandle(ql.SimpleQuote(0.0075))]\n",
    "meanRev = [ql.QuoteHandle(ql.SimpleQuote(0.002))]\n",
    "model = ql.Gsr(t0_curve, [today+100], volas, meanRev, 16.)\n",
    "process = model.stateProcess()"
   ]
  },
  {
   "cell_type": "markdown",
   "metadata": {},
   "source": [
    "###Calculate the swaption price using an integral pricing engine"
   ]
  },
  {
   "cell_type": "code",
   "execution_count": 113,
   "metadata": {
    "collapsed": false
   },
   "outputs": [],
   "source": [
    "swaptionEngine = ql.Gaussian1dSwaptionEngine(model)"
   ]
  },
  {
   "cell_type": "code",
   "execution_count": 114,
   "metadata": {
    "collapsed": false
   },
   "outputs": [
    {
     "name": "stdout",
     "output_type": "stream",
     "text": [
      "Swaption NPV : 18662.14\n"
     ]
    }
   ],
   "source": [
    "for swaption in swaptions:\n",
    "    swaption.setPricingEngine(swaptionEngine)\n",
    "    print(\"Swaption NPV : %.2f\" % swaption.NPV())"
   ]
  },
  {
   "cell_type": "markdown",
   "metadata": {
    "collapsed": true
   },
   "source": [
    "###Pricing with an Monte Carlo method"
   ]
  },
  {
   "cell_type": "markdown",
   "metadata": {},
   "source": [
    "####Create a swap path pricer in Python \n",
    "\n",
    "Convert all Dates into times in years (using the same DayCounter as in the yieldTermStructure and store all fix cashflows in a numpy array."
   ]
  },
  {
   "cell_type": "code",
   "execution_count": 115,
   "metadata": {
    "collapsed": false
   },
   "outputs": [],
   "source": [
    "mcDC = yts.dayCounter()\n",
    "\n",
    "def timeFromReferenceFactory(daycounter, ref):\n",
    "    \"\"\"\n",
    "    returns a function, that calculate the time in years\n",
    "    from a the reference date *ref* to date *dat* \n",
    "    with respect to the given DayCountConvention *daycounter*\n",
    "    \n",
    "    Parameter:\n",
    "        dayCounter (ql.DayCounter)\n",
    "        ref (ql.Date)\n",
    "        \n",
    "    Return:\n",
    "    \n",
    "        f(np.array(ql.Date)) -> np.array(float)\n",
    "    \"\"\"\n",
    "    def impl(dat):\n",
    "        return daycounter.yearFraction(ref, dat)\n",
    "    return np.vectorize(impl)\n",
    "\n",
    "timeFromReference = timeFromReferenceFactory(mcDC, today)"
   ]
  },
  {
   "cell_type": "code",
   "execution_count": 116,
   "metadata": {
    "collapsed": false
   },
   "outputs": [],
   "source": [
    "def getFixedLeg(swap, t):\n",
    "    \"\"\"\n",
    "    returns all future payment times and amount of the fixed leg of the underlying swap\n",
    "    \n",
    "    Parameter:\n",
    "        swap (ql.Swap)\n",
    "        t (float) \n",
    "        \n",
    "    Return:\n",
    "        (np.array, np.array) (times, amounts)\n",
    "\n",
    "    \"\"\"\n",
    "    fixed_leg = swap.leg(0)\n",
    "    n = len(fixed_leg)\n",
    "    fixed_times=[]\n",
    "    fixed_amounts=[]\n",
    "    npv = 0\n",
    "    for i in range(n):\n",
    "        cf = fixed_leg[i]\n",
    "        t_i = timeFromReference(cf.date())\n",
    "        if t_i > t:\n",
    "            fixed_times.append(t_i)\n",
    "            fixed_amounts.append(cf.amount())\n",
    "    return np.array(fixed_times), np.array(fixed_amounts)\n",
    "\n",
    "\n",
    "def getFloatingLeg(swap, t):\n",
    "    \n",
    "    float_leg = swap.leg(1)\n",
    "    n = len(float_leg)\n",
    "    float_times = []\n",
    "    float_dcf = []\n",
    "    accrual_start_time = []\n",
    "    accrual_end_time = []\n",
    "    nominals = []\n",
    "    for i in range(n):\n",
    "        # convert base classiborstart_idx Cashflow to\n",
    "        # FloatingRateCoupon\n",
    "        cf = ql.as_floating_rate_coupon(float_leg[i])\n",
    "        value_date = cf.referencePeriodStart()\n",
    "        t_fix_i = timeFromReference(value_date)\n",
    "        t_i = timeFromReference(cf.date()) \n",
    "        if t_fix_i >= t:\n",
    "            iborIndex = cf.index()\n",
    "            \n",
    "            index_mat = cf.referencePeriodEnd()\n",
    "            # year fraction\n",
    "            float_dcf.append(cf.accrualPeriod())\n",
    "            # calculate the start and end time\n",
    "            accrual_start_time.append(t_fix_i)\n",
    "            accrual_end_time.append(timeFromReference(index_mat))\n",
    "            # payment time\n",
    "            float_times.append(t_i)\n",
    "            # nominals \n",
    "            nominals.append(cf.nominal())\n",
    "    return np.array(float_times), np.array(float_dcf), np.array(accrual_start_time), np.array(accrual_end_time), np.array(nominals)\n",
    "\n",
    "\n",
    "def swapPathNPV(swap, t):\n",
    "    fixed_times, fixed_amounts = getFixedLeg(swap, t)\n",
    "    float_times, float_dcf, accrual_start_time, accrual_end_time, nominals = getFloatingLeg(swap, t)\n",
    "    df_times = np.concatenate([fixed_times, \n",
    "                           accrual_start_time, \n",
    "                           accrual_end_time, \n",
    "                           float_times])\n",
    "    df_times = np.unique(df_times)\n",
    "    # Store indices of fix leg payment times in \n",
    "    # the df_times array\n",
    "    fix_idx = np.in1d(df_times, fixed_times, True)\n",
    "    fix_idx = fix_idx.nonzero()\n",
    "    # Indices of the floating leg payment times \n",
    "    # in the df_times array\n",
    "    float_idx = np.in1d(df_times, float_times, True)\n",
    "    float_idx = float_idx.nonzero()\n",
    "    # Indices of the accrual start and end time\n",
    "    # in the df_times array\n",
    "    accrual_start_idx = np.in1d(df_times, accrual_start_time, True)\n",
    "    accrual_start_idx = accrual_start_idx.nonzero()\n",
    "    accrual_end_idx = np.in1d(df_times, accrual_end_time, True)\n",
    "    accrual_end_idx = accrual_end_idx.nonzero()\n",
    "    # Calculate NPV\n",
    "    def calc(x_t):\n",
    "        discount = np.vectorize(lambda T: model.zerobond(T, t, x_t))\n",
    "        dfs = discount(df_times)\n",
    "        # Calculate fixed leg npv\n",
    "        fix_leg_npv = np.sum(fixed_amounts * dfs[fix_idx])\n",
    "        # Estimate the index fixings\n",
    "        index_fixings = (dfs[accrual_start_idx] / dfs[accrual_end_idx] - 1) \n",
    "        index_fixings /= float_dcf\n",
    "        # Calculate the floating leg npv\n",
    "        float_leg_npv = np.sum(nominals * index_fixings * float_dcf * dfs[float_idx])\n",
    "        npv = float_leg_npv - fix_leg_npv\n",
    "        return npv\n",
    "    return calc"
   ]
  },
  {
   "cell_type": "code",
   "execution_count": 117,
   "metadata": {
    "collapsed": false
   },
   "outputs": [
    {
     "data": {
      "text/plain": [
       "array([ 1.00273973,  2.00273973,  3.00821918])"
      ]
     },
     "execution_count": 117,
     "metadata": {},
     "output_type": "execute_result"
    }
   ],
   "source": [
    "# Convert call date to time\n",
    "callTimes = timeFromReference(calldates)\n",
    "callTimes"
   ]
  },
  {
   "cell_type": "code",
   "execution_count": null,
   "metadata": {
    "collapsed": false
   },
   "outputs": [],
   "source": []
  },
  {
   "cell_type": "markdown",
   "metadata": {
    "collapsed": true
   },
   "source": [
    "####Test the t0 Swap Pricing"
   ]
  },
  {
   "cell_type": "code",
   "execution_count": 118,
   "metadata": {
    "collapsed": false
   },
   "outputs": [
    {
     "name": "stdout",
     "output_type": "stream",
     "text": [
      "Swap NPV at time 0: 0.0091\n",
      "Error : 0.00000000\n"
     ]
    }
   ],
   "source": [
    "npv = swapPathNPV(swap, 0.)(0)\n",
    "print(\"Swap NPV at time 0: %.4f\" % npv)\n",
    "print(\"Error : %.8f\" % (npv - swap.NPV()))"
   ]
  },
  {
   "cell_type": "markdown",
   "metadata": {},
   "source": [
    "###Monte Carlo Simulation\n",
    "\n",
    "#### Generate time grid and paths"
   ]
  },
  {
   "cell_type": "code",
   "execution_count": 119,
   "metadata": {
    "collapsed": false
   },
   "outputs": [],
   "source": [
    "def fixingdates(swap):\n",
    "    leg = swap.leg(1)\n",
    "    n = len(leg)\n",
    "    fixing_dates = []\n",
    "    for i in range(0, n):\n",
    "        cf = ql.as_floating_rate_coupon(leg[i])\n",
    "        value_date = cf.referencePeriodStart()\n",
    "        fixing_dates.append(value_date)\n",
    "    return fixing_dates\n",
    "\n",
    "# Define evaluation grid\n",
    "\n",
    "date_grid = [today] + calldates #+ fixingdates(swap)\n",
    "\n",
    "date_grid = np.unique(np.sort(date_grid))\n",
    "time_grid = np.vectorize(lambda x: ql.Actual365Fixed().yearFraction(today, x))(date_grid)\n",
    "dt = time_grid[1:] - time_grid[:-1]\n"
   ]
  },
  {
   "cell_type": "code",
   "execution_count": 120,
   "metadata": {
    "collapsed": false
   },
   "outputs": [
    {
     "data": {
      "text/plain": [
       "array([Date(7,4,2015), Date(7,4,2016), Date(7,4,2017), Date(9,4,2018)], dtype=object)"
      ]
     },
     "execution_count": 120,
     "metadata": {},
     "output_type": "execute_result"
    }
   ],
   "source": [
    "date_grid"
   ]
  },
  {
   "cell_type": "code",
   "execution_count": 121,
   "metadata": {
    "collapsed": false
   },
   "outputs": [],
   "source": [
    "# Random number generator\n",
    "seed = 1\n",
    "urng = ql.MersenneTwisterUniformRng(seed)\n",
    "usrg = ql.MersenneTwisterUniformRsg(len(time_grid)-1,urng)\n",
    "generator = ql.InvCumulativeMersenneTwisterGaussianRsg(usrg)"
   ]
  },
  {
   "cell_type": "code",
   "execution_count": 129,
   "metadata": {
    "collapsed": false
   },
   "outputs": [],
   "source": [
    "#%%timeit\n",
    "# Generate N paths\n",
    "M = 100000\n",
    "m = len(time_grid)\n",
    "x = np.zeros((M, m))\n",
    "y = np.zeros((M, m))\n",
    "numeraires = np.zeros((M, m))\n",
    "                      \n",
    "for n in range(0, M):\n",
    "    numeraires[n, 0] = model.numeraire(0, 0)\n",
    "    \n",
    "for n in range(0,M):\n",
    "    dWs = generator.nextSequence().value()\n",
    "    j = 1\n",
    "    for i in range(1, len(time_grid)):\n",
    "        t0 = time_grid[i-1]\n",
    "        t1 = time_grid[i]\n",
    "        e = process.expectation(t0, \n",
    "                                x[n,i-1], \n",
    "                                dt[i-1])\n",
    "        std = process.stdDeviation(t0,\n",
    "                                   x[n,i-1],\n",
    "                                   dt[i-1])\n",
    "        x[n,i] = e + dWs[i-1] * std \n",
    "        e_0_0 = process.expectation(0,0,t1)\n",
    "        std_0_0 = process.stdDeviation(0,0,t1)\n",
    "        y[n,i] = (x[n,i] - e_0_0) / std_0_0\n",
    "        numeraires[n, i] = model.numeraire(t1, y[n,i])\n",
    "        #df_times_temp = df_times.copy()\n",
    "        #df_times_temp[df_times_temp <= t1] = t1\n",
    "        #dfs[n,i] = np.vectorize(lambda T: model.zerobond(T, t1, y[n,i]))(df_times_temp)"
   ]
  },
  {
   "cell_type": "code",
   "execution_count": 130,
   "metadata": {
    "collapsed": false
   },
   "outputs": [],
   "source": [
    "last_call_time = callTimes[-1]\n",
    "\n",
    "call_idx = np.where(time_grid==last_call_time)[0][0]\n",
    "                         \n",
    "pricer = np.vectorize(swapPathNPV(swap, time_grid[call_idx]))\n",
    "\n",
    "cont_value = pricer(y[:,call_idx]) / numeraires[:,call_idx]\n",
    "cont_value[cont_value < 0] = 0\n",
    "\n"
   ]
  },
  {
   "cell_type": "code",
   "execution_count": 131,
   "metadata": {
    "collapsed": false
   },
   "outputs": [
    {
     "data": {
      "text/plain": [
       "3"
      ]
     },
     "execution_count": 131,
     "metadata": {},
     "output_type": "execute_result"
    }
   ],
   "source": [
    "call_idx"
   ]
  },
  {
   "cell_type": "code",
   "execution_count": 132,
   "metadata": {
    "collapsed": false
   },
   "outputs": [
    {
     "name": "stdout",
     "output_type": "stream",
     "text": [
      "2\n",
      "call\n",
      "1\n",
      "call\n"
     ]
    }
   ],
   "source": [
    "for i in range(call_idx-1, 0,-1):\n",
    "    print(i)\n",
    "    t = time_grid[i]\n",
    "    if t in callTimes:\n",
    "        print(\"call\")\n",
    "        pricer = np.vectorize(swapPathNPV(swap, t))\n",
    "        exercise_values = pricer(y[:,i]) / numeraires[:,i]\n",
    "        exercise_values[exercise_values < 0] = 0\n",
    "        states = y[:, i]\n",
    "        Y = np.column_stack((states, states**2, states**3, states**4))\n",
    "        Y = sm.add_constant(Y)\n",
    "        ols = sm.OLS(cont_value, Y)\n",
    "        ols_result = ols.fit()\n",
    "        cont_value_hat = np.sum(ols_result.params * Y, axis=1)\n",
    "        cont_value = np.maximum(cont_value_hat, exercise_values)\n",
    "npv_amc = cont_value"
   ]
  },
  {
   "cell_type": "code",
   "execution_count": 133,
   "metadata": {
    "collapsed": false
   },
   "outputs": [],
   "source": [
    "npv_amc = np.mean(npv_amc) * numeraires[0,0]"
   ]
  },
  {
   "cell_type": "code",
   "execution_count": 134,
   "metadata": {
    "collapsed": false
   },
   "outputs": [
    {
     "data": {
      "text/plain": [
       "18789.378507421919"
      ]
     },
     "execution_count": 134,
     "metadata": {},
     "output_type": "execute_result"
    }
   ],
   "source": [
    "npv_amc"
   ]
  },
  {
   "cell_type": "code",
   "execution_count": 135,
   "metadata": {
    "collapsed": false
   },
   "outputs": [
    {
     "name": "stdout",
     "output_type": "stream",
     "text": [
      "MC NPV: 18789.3785\n",
      "Error : 127.2350 \n",
      "Rel. Error in bps: 1.2724 \n"
     ]
    }
   ],
   "source": [
    "print(\"MC NPV: %.4f\" % npv_amc)\n",
    "print(\"Error : %.4f \" % (npv_amc-swaption.NPV()))\n",
    "print(\"Rel. Error in bps: %.4f \" % ((npv_amc-swaption.NPV()) / 100))"
   ]
  },
  {
   "cell_type": "code",
   "execution_count": 57,
   "metadata": {
    "collapsed": false
   },
   "outputs": [
    {
     "data": {
      "text/plain": [
       "<matplotlib.text.Text at 0x109c82fd0>"
      ]
     },
     "execution_count": 57,
     "metadata": {},
     "output_type": "execute_result"
    },
    {
     "data": {
      "image/png": "[encoded data removed]",
      "text/plain": [
       "<matplotlib.figure.Figure at 0x11c06a7b8>"
      ]
     },
     "metadata": {},
     "output_type": "display_data"
    }
   ],
   "source": [
    "plt.figure(figsize=(10,10))\n",
    "plt.scatter(states, cont_value)\n",
    "plt.scatter(states, cont_value_hat, marker='x', c='red')\n",
    "plt.legend([\"continuation values at t+1\", \"regression\"])\n",
    "plt.title(\"Regression Bermudan Swaption\")\n",
    "plt.xlabel(\"State at t\")\n",
    "plt.ylabel(\"NPV\")"
   ]
  },
  {
   "cell_type": "code",
   "execution_count": null,
   "metadata": {
    "collapsed": true
   },
   "outputs": [],
   "source": []
  }
 ],
 "metadata": {
  "kernelspec": {
   "display_name": "Python 3",
   "language": "python",
   "name": "python3"
  },
  "language_info": {
   "codemirror_mode": {
    "name": "ipython",
    "version": 3
   },
   "file_extension": ".py",
   "mimetype": "text/x-python",
   "name": "python",
   "nbconvert_exporter": "python",
   "pygments_lexer": "ipython3",
   "version": "3.5.1"
  }
 },
 "nbformat": 4,
 "nbformat_minor": 0
}
