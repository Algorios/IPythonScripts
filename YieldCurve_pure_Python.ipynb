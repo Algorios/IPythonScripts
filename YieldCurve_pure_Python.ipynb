{
 "cells": [
  {
   "cell_type": "code",
   "execution_count": 3,
   "metadata": {
    "collapsed": false
   },
   "outputs": [],
   "source": [
    "import numpy as np\n",
    "import scipy.interpolate as intp\n"
   ]
  },
  {
   "cell_type": "code",
   "execution_count": 138,
   "metadata": {
    "collapsed": true
   },
   "outputs": [],
   "source": [
    "def daysInBetweenAct(d0, d1):\n",
    "    return (d0-d1) / np.timedelta64(1,'D')\n",
    "\n",
    "def yearFractionAct360(d0, d1):\n",
    "    return daysInBetweenAct(d0, d1) / 360.\n",
    "\n",
    "def yearFractionAct365(d0, d1):\n",
    "    return daysInBetweenAct(d0, d1) / 365.\n",
    "    "
   ]
  },
  {
   "cell_type": "code",
   "execution_count": 132,
   "metadata": {
    "collapsed": false
   },
   "outputs": [],
   "source": [
    "def discountCurve(times, zeroRates):\n",
    "    dt = times[1:]-times[:-1]\n",
    "    dx = zeroRates[1:] - zeroRates[:-1]\n",
    "    dx_dt = dx / dt\n",
    "    def discount(t):\n",
    "        if t <= times[0]:\n",
    "            r = zeroRates[0]\n",
    "        elif t >= times[-1]:\n",
    "            r = zeroRates[-1]\n",
    "        else:\n",
    "            idx = np.min(np.argwhere(times>=t)) - 1\n",
    "            r = zeroRates[idx] + dx_dt[idx] * (times[idx+1] - t)\n",
    "        return np.exp(-r*t)\n",
    "    return np.vectorize(discount)\n",
    "\n",
    "\n",
    "\n",
    "\n",
    "\n",
    "def index(curve, tenor):\n",
    "    def fixing(t):\n",
    "        return (curve(t)/curve(t+tenor)-1)*tenor\n",
    "    return np.vectorize(fixing)\n",
    "\n",
    "def swapCashflows(self, start, maturity, nominal, fixedRate, fixedLegTenor, floatTenor, fwdCurve):\n",
    "    fix_schedule = np.arrange(start, maturity, fixedLegTenor)\n",
    "    dt = fix_schedule[1:]-fix_schedule[:-1]\n",
    "    fix_leg = nominal * dt * fixedRate\n",
    "    dt = fix_schedule[1:]-fix_schedule[:-1]\n",
    "    float_leg = nominal * dt * idx(float_schedule[:-1])\n",
    "        "
   ]
  },
  {
   "cell_type": "code",
   "execution_count": 133,
   "metadata": {
    "collapsed": false
   },
   "outputs": [
    {
     "data": {
      "text/plain": [
       "-0.49502491687458405"
      ]
     },
     "execution_count": 133,
     "metadata": {},
     "output_type": "execute_result"
    }
   ],
   "source": [
    "tenors = np.array([1, 2 , 3])\n",
    "zcs = np.array([0.02, 0.0125, 0.0175])\n",
    "-zeroCurve(tenors, zcs)(0.5)/2"
   ]
  },
  {
   "cell_type": "code",
   "execution_count": 134,
   "metadata": {
    "collapsed": false
   },
   "outputs": [],
   "source": [
    "import pycppad"
   ]
  },
  {
   "cell_type": "code",
   "execution_count": 135,
   "metadata": {
    "collapsed": false
   },
   "outputs": [],
   "source": [
    "a_zcs = pycppad.independent(zcs)\n",
    "a_y = np.array([zeroCurve(tenors, a_zcs)(0.5)])\n",
    "f = pycppad.adfun(a_zcs, a_y)"
   ]
  },
  {
   "cell_type": "code",
   "execution_count": 136,
   "metadata": {
    "collapsed": false
   },
   "outputs": [
    {
     "data": {
      "text/plain": [
       "array([[-0.49502492,  0.        ,  0.        ]])"
      ]
     },
     "execution_count": 136,
     "metadata": {},
     "output_type": "execute_result"
    }
   ],
   "source": [
    "f.jacobian(zcs)"
   ]
  },
  {
   "cell_type": "code",
   "execution_count": 46,
   "metadata": {
    "collapsed": false
   },
   "outputs": [],
   "source": [
    "dy = zcs[1:]-zcs[:-1]\n",
    "dx = tenors[1:]-tenors[:-1]"
   ]
  },
  {
   "cell_type": "code",
   "execution_count": 98,
   "metadata": {
    "collapsed": false
   },
   "outputs": [
    {
     "data": {
      "text/plain": [
       "array([ 0.99875078,  0.99750312])"
      ]
     },
     "execution_count": 98,
     "metadata": {},
     "output_type": "execute_result"
    }
   ],
   "source": [
    "np.exp(0.5*-dy/dx)"
   ]
  },
  {
   "cell_type": "code",
   "execution_count": 61,
   "metadata": {
    "collapsed": false
   },
   "outputs": [
    {
     "data": {
      "text/plain": [
       "1"
      ]
     },
     "execution_count": 61,
     "metadata": {},
     "output_type": "execute_result"
    }
   ],
   "source": [
    "idx = np.min(np.argwhere(tenors>=3)) - 1\n",
    "idx"
   ]
  },
  {
   "cell_type": "code",
   "execution_count": 125,
   "metadata": {
    "collapsed": false
   },
   "outputs": [],
   "source": [
    "pay = np.datetime64(\"2015-07-01\")\n",
    "today = np.datetime64(\"2015-04-06\")"
   ]
  },
  {
   "cell_type": "code",
   "execution_count": 127,
   "metadata": {
    "collapsed": false
   },
   "outputs": [
    {
     "data": {
      "text/plain": [
       "86.0"
      ]
     },
     "execution_count": 127,
     "metadata": {},
     "output_type": "execute_result"
    }
   ],
   "source": [
    "(pay-today) / np.timedelta64(1, \"D\")"
   ]
  },
  {
   "cell_type": "code",
   "execution_count": null,
   "metadata": {
    "collapsed": true
   },
   "outputs": [],
   "source": []
  }
 ],
 "metadata": {
  "kernelspec": {
   "display_name": "Python 2",
   "language": "python",
   "name": "python2"
  },
  "language_info": {
   "codemirror_mode": {
    "name": "ipython",
    "version": 2
   },
   "file_extension": ".py",
   "mimetype": "text/x-python",
   "name": "python",
   "nbconvert_exporter": "python",
   "pygments_lexer": "ipython2",
   "version": "2.7.6"
  }
 },
 "nbformat": 4,
 "nbformat_minor": 0
}
